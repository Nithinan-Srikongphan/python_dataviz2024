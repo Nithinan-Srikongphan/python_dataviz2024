{
  "nbformat": 4,
  "nbformat_minor": 0,
  "metadata": {
    "colab": {
      "provenance": [],
      "toc_visible": true,
      "authorship_tag": "ABX9TyPcuMqf2AFNWaxLtRY0hCza",
      "include_colab_link": true
    },
    "kernelspec": {
      "name": "python3",
      "display_name": "Python 3"
    },
    "language_info": {
      "name": "python"
    }
  },
  "cells": [
    {
      "cell_type": "markdown",
      "metadata": {
        "id": "view-in-github",
        "colab_type": "text"
      },
      "source": [
        "<a href=\"https://colab.research.google.com/github/Nithinan-Srikongphan/python_dataviz2024/blob/main/(Test03).ipynb\" target=\"_parent\"><img src=\"https://colab.research.google.com/assets/colab-badge.svg\" alt=\"Open In Colab\"/></a>"
      ]
    },
    {
      "cell_type": "markdown",
      "source": [
        "#ให้แสดงวิธีการจัดการข้อมูลและนำเสนอจุดที่น่าสนใจในข้อมูลนี้มา 2 จุด"
      ],
      "metadata": {
        "id": "n75RoNhn5o4g"
      }
    },
    {
      "cell_type": "markdown",
      "source": [
        "##การจัดการข้อมูล"
      ],
      "metadata": {
        "id": "mkkCPk8G88MC"
      }
    },
    {
      "cell_type": "code",
      "source": [
        "import pandas as pd\n",
        "\n",
        "# Mount Google Drive ให้พร้อมใช้งานใน Colab\n",
        "from google.colab import drive\n",
        "drive.mount('/content/drive')\n",
        "\n",
        "# ระบุ path ไปยังไฟล์ CSV\n",
        "file_path = '/content/drive/My Drive/data_viz_2024_/Data_Docter_ศ.นพ.ชวลิต.csv'\n",
        "\n",
        "# โหลดข้อมูลจากไฟล์ CSV ลงใน DataFrame\n",
        "df = pd.read_csv(file_path)\n",
        "\n",
        "# แสดงข้อมูลบางส่วนจาก DataFrame\n",
        "print(df.head())"
      ],
      "metadata": {
        "colab": {
          "base_uri": "https://localhost:8080/"
        },
        "id": "xDcYBeRW0hUE",
        "outputId": "3d552df9-96db-4d94-ddb6-82327c76cde5"
      },
      "execution_count": 1,
      "outputs": [
        {
          "output_type": "stream",
          "name": "stdout",
          "text": [
            "Drive already mounted at /content/drive; to attempt to forcibly remount, call drive.mount(\"/content/drive\", force_remount=True).\n",
            "                                   name  \\\n",
            "0  ศ.นพ.ชวลิต ศูนย์มะเร็ง รพ.จุฬาลงกรณ์   \n",
            "1                        Nubeer Kithiya   \n",
            "2                       วาสนา คุ้มจิตต์   \n",
            "3                  Wansook Chompoo Ploy   \n",
            "4                           Aphit Aphit   \n",
            "\n",
            "                                            comments  ยอดไลค์  จำนวนการตอบกลับ  \n",
            "0  กดที่ลิงค์นี้เพื่อเข้าไปอ่านคอมเม้นของโพสต์ครั...      456                3  \n",
            "1  เป็นมะเร็งลำไส้ใหญ่ ระยะที่ 3 ตอนอายุ 26 ค่ะ พ...     1400               70  \n",
            "2  แม่เป็นมะเร็งขั้วปอด ลามขึ้นสมองค่ะ เริ่มแรกที...      402               11  \n",
            "3  #มะเร็งปากมดลูกระยะCINlll เกือบเข้าระยะ 1 ตอนอ...     1600               44  \n",
            "4  ลูกสาวเป็นมะเร็งกระดูก Osteosarcomaช่วงเข่า อา...      480                5  \n"
          ]
        }
      ]
    },
    {
      "cell_type": "code",
      "source": [
        "print(df.info())"
      ],
      "metadata": {
        "colab": {
          "base_uri": "https://localhost:8080/"
        },
        "id": "18OSKPPZ1k8h",
        "outputId": "b9ed9329-876e-4abc-c90d-c2eeb9c6322f"
      },
      "execution_count": 2,
      "outputs": [
        {
          "output_type": "stream",
          "name": "stdout",
          "text": [
            "<class 'pandas.core.frame.DataFrame'>\n",
            "RangeIndex: 1653 entries, 0 to 1652\n",
            "Data columns (total 4 columns):\n",
            " #   Column           Non-Null Count  Dtype \n",
            "---  ------           --------------  ----- \n",
            " 0   name             1653 non-null   object\n",
            " 1   comments         1653 non-null   object\n",
            " 2   ยอดไลค์          1653 non-null   int64 \n",
            " 3   จำนวนการตอบกลับ  1653 non-null   int64 \n",
            "dtypes: int64(2), object(2)\n",
            "memory usage: 51.8+ KB\n",
            "None\n"
          ]
        }
      ]
    },
    {
      "cell_type": "code",
      "source": [
        "# ตรวจสอบค่าที่หายไป\n",
        "print(df.isnull().sum())\n"
      ],
      "metadata": {
        "colab": {
          "base_uri": "https://localhost:8080/"
        },
        "id": "PXekLfzu9bdn",
        "outputId": "e37a667a-a230-4a4a-c892-a48702082f82"
      },
      "execution_count": 3,
      "outputs": [
        {
          "output_type": "stream",
          "name": "stdout",
          "text": [
            "name               0\n",
            "comments           0\n",
            "ยอดไลค์            0\n",
            "จำนวนการตอบกลับ    0\n",
            "dtype: int64\n"
          ]
        }
      ]
    },
    {
      "cell_type": "code",
      "source": [
        "# ตรวจสอบข้อมูลที่ซ้ำกัน\n",
        "duplicate_rows = df[df.duplicated()]\n",
        "print(f\"จำนวนข้อมูลที่ซ้ำกัน: {len(duplicate_rows)}\")"
      ],
      "metadata": {
        "colab": {
          "base_uri": "https://localhost:8080/"
        },
        "id": "7g1MRc2o9ykg",
        "outputId": "637bcbbe-0129-4b16-e1dc-8938cc806361"
      },
      "execution_count": 4,
      "outputs": [
        {
          "output_type": "stream",
          "name": "stdout",
          "text": [
            "จำนวนข้อมูลที่ซ้ำกัน: 0\n"
          ]
        }
      ]
    },
    {
      "cell_type": "code",
      "source": [
        "# สร้างคอลัมน์ใหม่เพื่อคำนวณอัตราการตอบกลับต่อไลค์\n",
        "df['reply_to_like_ratio'] = df['จำนวนการตอบกลับ'] / df['ยอดไลค์']\n",
        "\n",
        "# แสดงผลลัพธ์\n",
        "print(df[['name', 'reply_to_like_ratio']].head())\n"
      ],
      "metadata": {
        "colab": {
          "base_uri": "https://localhost:8080/"
        },
        "id": "NYRB7ewB-kv-",
        "outputId": "79d80f94-e0b6-4b6a-afca-1774356c8511"
      },
      "execution_count": 7,
      "outputs": [
        {
          "output_type": "stream",
          "name": "stdout",
          "text": [
            "                                   name  reply_to_like_ratio\n",
            "0  ศ.นพ.ชวลิต ศูนย์มะเร็ง รพ.จุฬาลงกรณ์             0.006579\n",
            "1                        Nubeer Kithiya             0.050000\n",
            "2                       วาสนา คุ้มจิตต์             0.027363\n",
            "3                  Wansook Chompoo Ploy             0.027500\n",
            "4                           Aphit Aphit             0.010417\n"
          ]
        }
      ]
    },
    {
      "cell_type": "code",
      "source": [
        "# กรองข้อมูลที่มียอดไลค์ตามที่สนใจ\n",
        "filtered_df = df[df['ยอดไลค์'] > 500]\n",
        "\n",
        "# แสดงผลลัพธ์\n",
        "print(filtered_df)"
      ],
      "metadata": {
        "colab": {
          "base_uri": "https://localhost:8080/"
        },
        "id": "95U8DRBy-ku5",
        "outputId": "34f14a95-d355-4350-ed83-d17fb99cce1c"
      },
      "execution_count": 10,
      "outputs": [
        {
          "output_type": "stream",
          "name": "stdout",
          "text": [
            "                   name                                           comments  \\\n",
            "1        Nubeer Kithiya  เป็นมะเร็งลำไส้ใหญ่ ระยะที่ 3 ตอนอายุ 26 ค่ะ พ...   \n",
            "3  Wansook Chompoo Ploy  #มะเร็งปากมดลูกระยะCINlll เกือบเข้าระยะ 1 ตอนอ...   \n",
            "5            Ize Atitya  ลูกสาว 5 ขวบ เป็นมะเร็งสมองคะ ไม่มีอาการอะไร น...   \n",
            "\n",
            "   ยอดไลค์  จำนวนการตอบกลับ  reply_to_like_ratio  \n",
            "1     1400               70             0.050000  \n",
            "3     1600               44             0.027500  \n",
            "5     1500               23             0.015333  \n"
          ]
        }
      ]
    },
    {
      "cell_type": "markdown",
      "source": [
        "##จุดที่น่าสนใจจุดที่ 1: วิเคราะห์ข้อมูลที่มีจำนวนไลค์สูงที่สุด"
      ],
      "metadata": {
        "id": "zCxY8faB-RD5"
      }
    },
    {
      "cell_type": "code",
      "source": [
        "#เราสามารถหาว่าคอมเมนต์ไหนที่มีจำนวนไลค์มากที่สุด ซึ่งอาจบ่งบอกถึงความสนใจของผู้คน --> เพื่อดูว่าคอมเมนต์ใดได้รับความสนใจมากที่สุดจากผู้ใช้"
      ],
      "metadata": {
        "id": "cg36DeFL5WYS"
      },
      "execution_count": null,
      "outputs": []
    },
    {
      "cell_type": "code",
      "source": [
        "# หาคอมเมนต์ที่มีจำนวนไลค์สูงที่สุด\n",
        "most_liked = df.loc[df['ยอดไลค์'].idxmax()]\n",
        "print(\"คอมเมนต์ที่มีจำนวนไลค์มากที่สุด:\")\n",
        "print(most_liked[['name', 'comments', 'ยอดไลค์']])"
      ],
      "metadata": {
        "colab": {
          "base_uri": "https://localhost:8080/"
        },
        "id": "smwATxmf6BcS",
        "outputId": "a84cedf3-58f4-4e37-eeea-21cb742bc1a2"
      },
      "execution_count": 4,
      "outputs": [
        {
          "output_type": "stream",
          "name": "stdout",
          "text": [
            "คอมเมนต์ที่มีจำนวนไลค์มากที่สุด:\n",
            "name                                     Wansook Chompoo Ploy\n",
            "comments    #มะเร็งปากมดลูกระยะCINlll เกือบเข้าระยะ 1 ตอนอ...\n",
            "ยอดไลค์                                                  1600\n",
            "Name: 3, dtype: object\n"
          ]
        }
      ]
    },
    {
      "cell_type": "markdown",
      "source": [
        "#จุดที่น่าสนใจจุดที่ 2: วิเคราะห์คอมเมนต์ที่มีการตอบกลับมากที่สุด"
      ],
      "metadata": {
        "id": "u0H6R7516G43"
      }
    },
    {
      "cell_type": "code",
      "source": [
        "#คอมเมนต์ที่มีการตอบกลับมากที่สุดอาจบ่งบอกถึงการสนทนาหรือการถกเถียงที่เกิดขึ้น --> เพื่อดูว่าคอมเมนต์ใดทำให้เกิดการสนทนาหรือการตอบสนองมากที่สุด"
      ],
      "metadata": {
        "id": "stMkBS9Q6GeD"
      },
      "execution_count": null,
      "outputs": []
    },
    {
      "cell_type": "code",
      "source": [
        "# หาคอมเมนต์ที่มีการตอบกลับมากที่สุด\n",
        "most_replies = df.loc[df['จำนวนการตอบกลับ'].idxmax()]\n",
        "print(\"คอมเมนต์ที่มีการตอบกลับมากที่สุด:\")\n",
        "print(most_replies[['name', 'comments', 'จำนวนการตอบกลับ']])\n"
      ],
      "metadata": {
        "colab": {
          "base_uri": "https://localhost:8080/"
        },
        "id": "XYTZHZrN6NWF",
        "outputId": "ddb4e7ec-f63e-45ee-b9ce-5d4094073927"
      },
      "execution_count": 5,
      "outputs": [
        {
          "output_type": "stream",
          "name": "stdout",
          "text": [
            "คอมเมนต์ที่มีการตอบกลับมากที่สุด:\n",
            "name                                                  Nubeer Kithiya\n",
            "comments           เป็นมะเร็งลำไส้ใหญ่ ระยะที่ 3 ตอนอายุ 26 ค่ะ พ...\n",
            "จำนวนการตอบกลับ                                                   70\n",
            "Name: 1, dtype: object\n"
          ]
        }
      ]
    }
  ]
}